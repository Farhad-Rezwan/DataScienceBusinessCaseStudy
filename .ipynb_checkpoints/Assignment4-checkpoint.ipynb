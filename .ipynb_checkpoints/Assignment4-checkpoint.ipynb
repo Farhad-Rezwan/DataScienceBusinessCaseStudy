{
 "cells": [
  {
   "cell_type": "code",
   "execution_count": 34,
   "metadata": {},
   "outputs": [],
   "source": [
    "from pyspark import SparkContext\n",
    "from pyspark.sql import SparkSession\n",
    "\n",
    "sc = SparkContext.getOrCreate()\n",
    "\n",
    "if (sc is None):\n",
    "    sc = SparkContext(master=\"local[4]\", appName=\"Assignment 4: \")\n",
    "spark = SparkSession(sparkContext=sc)"
   ]
  },
  {
   "cell_type": "code",
   "execution_count": 35,
   "metadata": {},
   "outputs": [],
   "source": [
    "df = spark.read.csv(\"TrainSensorDummyDataset.csv\", sep = \",\", inferSchema=True, header=True)"
   ]
  },
  {
   "cell_type": "code",
   "execution_count": 36,
   "metadata": {},
   "outputs": [
    {
     "name": "stdout",
     "output_type": "stream",
     "text": [
      "root\n",
      " |-- axleNumber: string (nullable = true)\n",
      " |-- TrainModel: string (nullable = true)\n",
      " |-- VerticalVibratrion: string (nullable = true)\n",
      " |-- CrackSizeVertical: string (nullable = true)\n",
      " |-- repairmentAxle: string (nullable = true)\n",
      " |-- HoraizontalVibratoin: double (nullable = true)\n",
      " |-- CrackSizeHoraizontal: double (nullable = true)\n",
      " |-- repairmentWheel: string (nullable = true)\n",
      "\n"
     ]
    }
   ],
   "source": [
    "df.printSchema()"
   ]
  },
  {
   "cell_type": "markdown",
   "metadata": {},
   "source": [
    "# Data Preprocessing"
   ]
  },
  {
   "cell_type": "markdown",
   "metadata": {},
   "source": [
    "Print Number of missing values in columns"
   ]
  },
  {
   "cell_type": "code",
   "execution_count": 37,
   "metadata": {},
   "outputs": [
    {
     "name": "stdout",
     "output_type": "stream",
     "text": [
      "Number of null values in each columns: \n",
      "\t axleNumber  : 0\n",
      "\t TrainModel  : 10\n",
      "\t VerticalVibratrion  : 11\n",
      "\t CrackSizeVertical  : 13\n",
      "\t repairmentAxle  : 0\n",
      "\t HoraizontalVibratoin  : 0\n",
      "\t CrackSizeHoraizontal  : 0\n",
      "\t repairmentWheel  : 0\n"
     ]
    }
   ],
   "source": [
    "print(\"Number of null values in each columns: \")\n",
    "def countNull(forNullCountDf):\n",
    "    i = 0\n",
    "    for x in forNullCountDf.columns:\n",
    "        print(\"\\t\",forNullCountDf.columns[i], ' :', forNullCountDf.filter(forNullCountDf[forNullCountDf.columns[i]] == 'NA').count())\n",
    "        i += 1\n",
    "countNull(df)"
   ]
  },
  {
   "cell_type": "markdown",
   "metadata": {},
   "source": [
    "Dealing with missing catagorical values"
   ]
  },
  {
   "cell_type": "code",
   "execution_count": 38,
   "metadata": {},
   "outputs": [],
   "source": [
    "from pyspark.sql.functions import when\n",
    "newestDf = df\n",
    "convert = ['VerticalVibratrion', 'CrackSizeVertical']\n",
    "rAvgDf = df.agg({x : \"avg\" for x in convert})\n",
    "avgValues = rAvgDf.collect()[0]\n",
    "\n",
    "# helps to return the average of a column using rAvgDf dataframe.\n",
    "def findAvg(colName):\n",
    "    column = \"avg(\" + colName + \")\"\n",
    "    return avgValues[column]\n",
    "\n",
    "# helps to change the \"NA\" values to average of corresponding columns.\n",
    "def changeNulls(colName, toChangeDf):\n",
    "    updatedDf = toChangeDf.withColumn(colName, when(toChangeDf[colName] == 'NA', findAvg(colName)).otherwise(toChangeDf[colName]))\n",
    "    return updatedDf\n",
    "\n",
    "\n",
    "# just a proff check method to check weather the NA values are changed with the average of that column or not.\n",
    "# def x(colNamee, toViewDf):\n",
    "#     i = 0\n",
    "#     for x in toViewDf.columns:\n",
    "#         print(toViewDf.columns[i], ' :', toViewDf.filter(toViewDf[toViewDf.columns[i]] == findAvg(colNamee)).count())\n",
    "#         i += 1\n",
    "\n",
    "\n",
    "# a method that is substitute of changeNulls method, helps to run more effeciently\n",
    "def changeNullwithAvg(colName, dFrame):\n",
    "    updatedDataFrame = changeNulls(colName, dFrame)\n",
    "    return updatedDataFrame\n",
    "\n",
    "\n"
   ]
  },
  {
   "cell_type": "code",
   "execution_count": 39,
   "metadata": {},
   "outputs": [
    {
     "name": "stdout",
     "output_type": "stream",
     "text": [
      "root\n",
      " |-- axleNumber: string (nullable = true)\n",
      " |-- TrainModel: string (nullable = true)\n",
      " |-- VerticalVibratrion: string (nullable = true)\n",
      " |-- CrackSizeVertical: string (nullable = true)\n",
      " |-- repairmentAxle: string (nullable = true)\n",
      " |-- HoraizontalVibratoin: double (nullable = true)\n",
      " |-- CrackSizeHoraizontal: double (nullable = true)\n",
      " |-- repairmentWheel: string (nullable = true)\n",
      "\n"
     ]
    }
   ],
   "source": [
    "df.printSchema()"
   ]
  },
  {
   "cell_type": "code",
   "execution_count": 40,
   "metadata": {},
   "outputs": [],
   "source": [
    "numaricColums = [\"VerticalVibratrion\", \"CrackSizeVertical\"]\n",
    "numaricColum = ['HoraizontalVibratoin', 'CrackSizeHoraizontal']\n",
    "# A for loop to apply changeNullwithAvg to all numaric columns of dataframe\n",
    "for i in numaricColums:\n",
    "    newestDf = changeNullwithAvg(i, newestDf)"
   ]
  },
  {
   "cell_type": "code",
   "execution_count": 41,
   "metadata": {},
   "outputs": [],
   "source": [
    "from pyspark.sql.functions import desc\n",
    "\n",
    "# A method to find out the most frequent item of a column\n",
    "def maxOcc(s):\n",
    "    return df.groupBy(s).count().sort(desc(\"count\")).collect()[0][0]"
   ]
  },
  {
   "cell_type": "code",
   "execution_count": 42,
   "metadata": {},
   "outputs": [],
   "source": [
    "# helps to change NA values to maximum value of that column.\n",
    "def changeNullsString(colName, toChangeDf):\n",
    "    updatedDf = toChangeDf.withColumn(colName, when(toChangeDf[colName] == 'NA', maxOcc(colName)).otherwise(toChangeDf[colName]))\n",
    "    return updatedDf"
   ]
  },
  {
   "cell_type": "code",
   "execution_count": 43,
   "metadata": {},
   "outputs": [],
   "source": [
    "nonNumaricColumns = [\"TrainModel\"]\n",
    "\n",
    "# for loop to run changeNullsString method for every non numaric columns of dataframe.\n",
    "for j in nonNumaricColumns:\n",
    "    newestDf = changeNullsString(j, newestDf)"
   ]
  },
  {
   "cell_type": "code",
   "execution_count": 44,
   "metadata": {},
   "outputs": [
    {
     "name": "stdout",
     "output_type": "stream",
     "text": [
      "Number of null values in each columns: \n",
      "\t axleNumber  : 0\n",
      "\t TrainModel  : 0\n",
      "\t VerticalVibratrion  : 0\n",
      "\t CrackSizeVertical  : 0\n",
      "\t repairmentAxle  : 0\n",
      "\t HoraizontalVibratoin  : 0\n",
      "\t CrackSizeHoraizontal  : 0\n",
      "\t repairmentWheel  : 0\n"
     ]
    }
   ],
   "source": [
    "print(\"Number of null values in each columns: \")\n",
    "def countNull(forNullCountDf):\n",
    "    i = 0\n",
    "    for x in forNullCountDf.columns:\n",
    "        print(\"\\t\",forNullCountDf.columns[i], ' :', forNullCountDf.filter(forNullCountDf[forNullCountDf.columns[i]] == 'NA').count())\n",
    "        i += 1\n",
    "countNull(newestDf)"
   ]
  },
  {
   "cell_type": "code",
   "execution_count": 45,
   "metadata": {},
   "outputs": [],
   "source": [
    "from pyspark.sql.types import DoubleType\n",
    "\n",
    "for i in numaricColums:\n",
    "    updatedDataframe = newestDf.withColumn(i, newestDf[i].cast(DoubleType()))\n",
    "    newestDf = updatedDataframe"
   ]
  },
  {
   "cell_type": "code",
   "execution_count": 46,
   "metadata": {},
   "outputs": [],
   "source": [
    "from pyspark.ml.feature import StringIndexer\n",
    "\n",
    "nonNumToChnage = ['repairmentWheel']\n",
    "for i in nonNumToChnage:\n",
    "    l_indexer = StringIndexer(inputCol=i, outputCol= i + 'Index')\n",
    "    newestDf = l_indexer.fit(newestDf).transform(newestDf)\n"
   ]
  },
  {
   "cell_type": "code",
   "execution_count": 47,
   "metadata": {},
   "outputs": [
    {
     "name": "stdout",
     "output_type": "stream",
     "text": [
      "root\n",
      " |-- axleNumber: string (nullable = true)\n",
      " |-- TrainModel: string (nullable = true)\n",
      " |-- VerticalVibratrion: double (nullable = true)\n",
      " |-- CrackSizeVertical: double (nullable = true)\n",
      " |-- repairmentAxle: string (nullable = true)\n",
      " |-- HoraizontalVibratoin: double (nullable = true)\n",
      " |-- CrackSizeHoraizontal: double (nullable = true)\n",
      " |-- repairmentWheel: string (nullable = true)\n",
      " |-- repairmentWheelIndex: double (nullable = false)\n",
      "\n"
     ]
    }
   ],
   "source": [
    "newestDf.printSchema()"
   ]
  },
  {
   "cell_type": "code",
   "execution_count": null,
   "metadata": {},
   "outputs": [],
   "source": [
    "#newestDf.show()"
   ]
  },
  {
   "cell_type": "markdown",
   "metadata": {},
   "source": [
    "Dealing with missing Numerical Values"
   ]
  },
  {
   "cell_type": "code",
   "execution_count": 48,
   "metadata": {},
   "outputs": [],
   "source": [
    "from pyspark.ml.linalg import Vectors\n",
    "from pyspark.ml.feature import VectorAssembler\n",
    "\n",
    "# filteredColumns = [i for i in newestDf.columns if i != 'RainTomorrowIndex']\n",
    "\n",
    "vecAssembler = VectorAssembler(inputCols = ['HoraizontalVibratoin'] , outputCol='Features')\n",
    "\n",
    "tempDf = vecAssembler.transform(newestDf)\n"
   ]
  },
  {
   "cell_type": "code",
   "execution_count": 49,
   "metadata": {},
   "outputs": [
    {
     "name": "stdout",
     "output_type": "stream",
     "text": [
      "root\n",
      " |-- axleNumber: string (nullable = true)\n",
      " |-- TrainModel: string (nullable = true)\n",
      " |-- VerticalVibratrion: double (nullable = true)\n",
      " |-- CrackSizeVertical: double (nullable = true)\n",
      " |-- repairmentAxle: string (nullable = true)\n",
      " |-- HoraizontalVibratoin: double (nullable = true)\n",
      " |-- CrackSizeHoraizontal: double (nullable = true)\n",
      " |-- repairmentWheel: string (nullable = true)\n",
      " |-- repairmentWheelIndex: double (nullable = false)\n",
      " |-- Features: vector (nullable = true)\n",
      "\n"
     ]
    }
   ],
   "source": [
    "tempDf.printSchema()"
   ]
  },
  {
   "cell_type": "code",
   "execution_count": 50,
   "metadata": {},
   "outputs": [],
   "source": [
    "(trainingData, testData) = tempDf.randomSplit([0.7, 0.3])"
   ]
  },
  {
   "cell_type": "code",
   "execution_count": 58,
   "metadata": {},
   "outputs": [
    {
     "name": "stdout",
     "output_type": "stream",
     "text": [
      "+----------+--------------------+\n",
      "|prediction|repairmentWheelIndex|\n",
      "+----------+--------------------+\n",
      "|       0.0|                 1.0|\n",
      "|       0.0|                 0.0|\n",
      "|       0.0|                 0.0|\n",
      "|       0.0|                 0.0|\n",
      "|       0.0|                 1.0|\n",
      "+----------+--------------------+\n",
      "only showing top 5 rows\n",
      "\n",
      "Accuracy using Decision Tree Classifier: 0.6838709677419355\n"
     ]
    }
   ],
   "source": [
    "from pyspark.ml.classification import DecisionTreeClassifier\n",
    "\n",
    "from pyspark.ml.evaluation import MulticlassClassificationEvaluator\n",
    "\n",
    "dt = DecisionTreeClassifier(labelCol = 'repairmentWheelIndex', featuresCol=\"Features\")\n",
    "model = dt.fit(trainingData)\n",
    "\n",
    "predictionsDT = model.transform(testData)\n",
    "\n",
    "predictionsDT.select(\"prediction\", \"repairmentWheelIndex\").show(5)\n",
    "\n",
    "evaluator = MulticlassClassificationEvaluator(\\\n",
    "\n",
    "labelCol=\"repairmentWheelIndex\", predictionCol=\"prediction\",\\\n",
    "\n",
    "metricName=\"accuracy\")\n",
    "\n",
    "accuracyDT = evaluator.evaluate(predictionsDT)\n",
    "\n",
    "print(\"Accuracy using Decision Tree Classifier: \" + str(accuracyDT))\n"
   ]
  },
  {
   "cell_type": "code",
   "execution_count": 59,
   "metadata": {},
   "outputs": [
    {
     "name": "stdout",
     "output_type": "stream",
     "text": [
      "+----------+--------------------+\n",
      "|prediction|repairmentWheelIndex|\n",
      "+----------+--------------------+\n",
      "|       0.0|                 1.0|\n",
      "|       0.0|                 0.0|\n",
      "|       0.0|                 0.0|\n",
      "|       0.0|                 0.0|\n",
      "|       0.0|                 1.0|\n",
      "+----------+--------------------+\n",
      "only showing top 5 rows\n",
      "\n",
      "Accuracy using Random Forest Classifier: 0.7064516129032258\n"
     ]
    }
   ],
   "source": [
    "from pyspark.ml.classification import RandomForestClassifier\n",
    "\n",
    "rf = RandomForestClassifier(labelCol=\"repairmentWheelIndex\",\\\n",
    "featuresCol=\"Features\", numTrees=10)\n",
    "\n",
    "model = rf.fit(trainingData)\n",
    "\n",
    "predictionsRF = model.transform(testData)\n",
    "\n",
    "predictionsRF.select(\"prediction\", \"repairmentWheelIndex\").show(5)\n",
    "\n",
    "evaluator =\\\n",
    "MulticlassClassificationEvaluator(labelCol=\"repairmentWheelIndex\",\\\n",
    "predictionCol=\"prediction\", metricName=\"accuracy\")\n",
    "\n",
    "accuracyRF = evaluator.evaluate(predictionsRF)\n",
    "print(\"Accuracy using Random Forest Classifier: \" + str(accuracyRF))"
   ]
  },
  {
   "cell_type": "code",
   "execution_count": 60,
   "metadata": {},
   "outputs": [
    {
     "name": "stdout",
     "output_type": "stream",
     "text": [
      "+----------+--------------------+\n",
      "|prediction|repairmentWheelIndex|\n",
      "+----------+--------------------+\n",
      "|       0.0|                 1.0|\n",
      "|       0.0|                 0.0|\n",
      "|       0.0|                 0.0|\n",
      "|       0.0|                 0.0|\n",
      "|       0.0|                 1.0|\n",
      "+----------+--------------------+\n",
      "only showing top 5 rows\n",
      "\n",
      "Accuracy using Logistic Regression Classifier: 0.4272667971298108\n"
     ]
    }
   ],
   "source": [
    "from pyspark.ml.classification import LogisticRegression\n",
    "from pyspark.ml.evaluation import BinaryClassificationEvaluator\n",
    "\n",
    "lr = LogisticRegression(featuresCol = 'Features', labelCol = 'repairmentWheelIndex',    maxIter=10)\n",
    "lrModel = lr.fit(trainingData)\n",
    "predictionsLR = lrModel.transform(testData)\n",
    "predictionsLR.select(\"prediction\", \"repairmentWheelIndex\").show(5)\n",
    "evaluator = BinaryClassificationEvaluator(labelCol='repairmentWheelIndex')\n",
    "accuracyLR = evaluator.evaluate(predictionsLR)\n",
    "\n",
    "print(\"Accuracy using Logistic Regression Classifier: \" + str(accuracyLR))"
   ]
  },
  {
   "cell_type": "code",
   "execution_count": 65,
   "metadata": {},
   "outputs": [
    {
     "data": {
      "image/png": "[encoded data removed]",
      "text/plain": [
       "<Figure size 960x640 with 1 Axes>"
      ]
     },
     "metadata": {},
     "output_type": "display_data"
    }
   ],
   "source": [
    "from pyspark.sql.functions import year, month, dayofweek\n",
    "import matplotlib.pyplot as plt\n",
    "import numpy as np\n",
    "%matplotlib inline\n",
    "\n",
    "plt.figure(figsize=(12,8), dpi=80, facecolor='w', edgecolor='k')\n",
    "\n",
    "bar_width = 0.5\n",
    "objects = [\"Decision Tree\", \"Random Forest\", \"Logistic Regression\"]\n",
    "y_axis = [accuracyDT, accuracyRF, accuracyLR]\n",
    "y_pos = np.arange(len(objects))\n",
    "\n",
    "plt.bar(y_pos, y_axis, bar_width, align='center', color='r')\n",
    "plt.xticks(y_pos, objects, rotation='vertical', fontsize=16)\n",
    "plt.yticks(fontsize=16)\n",
    "plt.xlabel('Machine Learning Algorithms', fontsize=18)\n",
    "plt.ylabel('Predictions', fontsize=18)\n",
    "plt.title('Bar Chart Demonstrating the accuracy of Different Machine Learning Algorithms', fontsize=22, pad=20)\n",
    "plt.show()"
   ]
  },
  {
   "cell_type": "code",
   "execution_count": 73,
   "metadata": {},
   "outputs": [
    {
     "name": "stdout",
     "output_type": "stream",
     "text": [
      "Confusion Matrix for Decision Tree Classifier: \n",
      "+----------+--------------------+-----+\n",
      "|prediction|repairmentWheelIndex|count|\n",
      "+----------+--------------------+-----+\n",
      "|       1.0|                 1.0|    2|\n",
      "|       0.0|                 1.0|   89|\n",
      "|       1.0|                 0.0|    9|\n",
      "|       0.0|                 0.0|  210|\n",
      "+----------+--------------------+-----+\n",
      "\n",
      "\tTrue Positive Count:  2\n",
      "\tFalse Negitive Count:  89\n",
      "\tFalse Positive Count:  9\n",
      "\tTrue Negative Count:  210\n",
      "\n",
      "Precesion, Recall and F1 Score of Decision Tree Classifier: \n",
      "\n",
      "\tPrecision : 0.18181818181818182\n",
      "\tRecall : 0.02197802197802198\n",
      "\tF1 Score : 0.0392156862745098\n"
     ]
    }
   ],
   "source": [
    "DecisionTreeCM = predictionsDT.groupBy('prediction','repairmentWheelIndex').count()\n",
    "print(\"Confusion Matrix for Decision Tree Classifier: \")\n",
    "DecisionTreeCM.show()\n",
    "\n",
    "\n",
    "TruePosDT = DecisionTreeCM.filter(DecisionTreeCM.prediction ==1).filter(DecisionTreeCM.repairmentWheelIndex ==1).collect()[0][2]\n",
    "FalseNegDT = DecisionTreeCM.filter(DecisionTreeCM.prediction ==0).filter(DecisionTreeCM.repairmentWheelIndex ==1).collect()[0][2]\n",
    "FalsePosDT = DecisionTreeCM.filter(DecisionTreeCM.prediction ==1).filter(DecisionTreeCM.repairmentWheelIndex ==0).collect()[0][2]\n",
    "TrueNegDT = DecisionTreeCM.filter(DecisionTreeCM.prediction ==0).filter(DecisionTreeCM.repairmentWheelIndex ==0).collect()[0][2]\n",
    "\n",
    "PrecisionDT = TruePosDT / (TruePosDT + FalsePosDT)\n",
    "RecallDT = TruePosDT / (TruePosDT + FalseNegDT)\n",
    "F1DT = 2*((PrecisionDT*RecallDT)/(PrecisionDT+RecallDT))\n",
    "\n",
    "\n",
    "print(\"\\tTrue Positive Count: \", TruePosDT)\n",
    "print(\"\\tFalse Negitive Count: \", FalseNegDT)\n",
    "print(\"\\tFalse Positive Count: \", FalsePosDT)\n",
    "print(\"\\tTrue Negative Count: \", TrueNegDT)\n",
    "print(\"\")\n",
    "print(\"Precesion, Recall and F1 Score of Decision Tree Classifier: \")\n",
    "print(\"\")\n",
    "print(\"\\tPrecision :\", PrecisionDT)\n",
    "print(\"\\tRecall :\", RecallDT)\n",
    "print(\"\\tF1 Score :\", F1DT)\n"
   ]
  },
  {
   "cell_type": "code",
   "execution_count": 74,
   "metadata": {},
   "outputs": [
    {
     "name": "stdout",
     "output_type": "stream",
     "text": [
      "Confusion Matrix for Logistic Regression Classifier: \n",
      "+----------+--------------------+-----+\n",
      "|prediction|repairmentWheelIndex|count|\n",
      "+----------+--------------------+-----+\n",
      "|       0.0|                 1.0|   91|\n",
      "|       0.0|                 0.0|  219|\n",
      "+----------+--------------------+-----+\n",
      "\n"
     ]
    },
    {
     "ename": "IndexError",
     "evalue": "list index out of range",
     "output_type": "error",
     "traceback": [
      "\u001b[0;31m---------------------------------------------------------------------------\u001b[0m",
      "\u001b[0;31mIndexError\u001b[0m                                Traceback (most recent call last)",
      "\u001b[0;32m<ipython-input-74-98d5c31dff90>\u001b[0m in \u001b[0;36m<module>\u001b[0;34m\u001b[0m\n\u001b[1;32m      4\u001b[0m \u001b[0mLogisticRegressionCM\u001b[0m\u001b[0;34m.\u001b[0m\u001b[0mshow\u001b[0m\u001b[0;34m(\u001b[0m\u001b[0;34m)\u001b[0m\u001b[0;34m\u001b[0m\u001b[0;34m\u001b[0m\u001b[0m\n\u001b[1;32m      5\u001b[0m \u001b[0;34m\u001b[0m\u001b[0m\n\u001b[0;32m----> 6\u001b[0;31m \u001b[0mTruePosLR\u001b[0m \u001b[0;34m=\u001b[0m \u001b[0mLogisticRegressionCM\u001b[0m\u001b[0;34m.\u001b[0m\u001b[0mfilter\u001b[0m\u001b[0;34m(\u001b[0m\u001b[0mLogisticRegressionCM\u001b[0m\u001b[0;34m.\u001b[0m\u001b[0mprediction\u001b[0m \u001b[0;34m==\u001b[0m\u001b[0;36m1\u001b[0m\u001b[0;34m)\u001b[0m\u001b[0;34m.\u001b[0m\u001b[0mfilter\u001b[0m\u001b[0;34m(\u001b[0m\u001b[0mLogisticRegressionCM\u001b[0m\u001b[0;34m.\u001b[0m\u001b[0mrepairmentWheelIndex\u001b[0m \u001b[0;34m==\u001b[0m\u001b[0;36m1\u001b[0m\u001b[0;34m)\u001b[0m\u001b[0;34m.\u001b[0m\u001b[0mcollect\u001b[0m\u001b[0;34m(\u001b[0m\u001b[0;34m)\u001b[0m\u001b[0;34m[\u001b[0m\u001b[0;36m0\u001b[0m\u001b[0;34m]\u001b[0m\u001b[0;34m[\u001b[0m\u001b[0;36m2\u001b[0m\u001b[0;34m]\u001b[0m\u001b[0;34m\u001b[0m\u001b[0;34m\u001b[0m\u001b[0m\n\u001b[0m\u001b[1;32m      7\u001b[0m \u001b[0mFalseNegLR\u001b[0m \u001b[0;34m=\u001b[0m \u001b[0mLogisticRegressionCM\u001b[0m\u001b[0;34m.\u001b[0m\u001b[0mfilter\u001b[0m\u001b[0;34m(\u001b[0m\u001b[0mLogisticRegressionCM\u001b[0m\u001b[0;34m.\u001b[0m\u001b[0mprediction\u001b[0m \u001b[0;34m==\u001b[0m\u001b[0;36m0\u001b[0m\u001b[0;34m)\u001b[0m\u001b[0;34m.\u001b[0m\u001b[0mfilter\u001b[0m\u001b[0;34m(\u001b[0m\u001b[0mLogisticRegressionCM\u001b[0m\u001b[0;34m.\u001b[0m\u001b[0mrepairmentWheelIndex\u001b[0m \u001b[0;34m==\u001b[0m\u001b[0;36m1\u001b[0m\u001b[0;34m)\u001b[0m\u001b[0;34m.\u001b[0m\u001b[0mcollect\u001b[0m\u001b[0;34m(\u001b[0m\u001b[0;34m)\u001b[0m\u001b[0;34m[\u001b[0m\u001b[0;36m0\u001b[0m\u001b[0;34m]\u001b[0m\u001b[0;34m[\u001b[0m\u001b[0;36m2\u001b[0m\u001b[0;34m]\u001b[0m\u001b[0;34m\u001b[0m\u001b[0;34m\u001b[0m\u001b[0m\n\u001b[1;32m      8\u001b[0m \u001b[0mFalsePosLR\u001b[0m \u001b[0;34m=\u001b[0m \u001b[0mLogisticRegressionCM\u001b[0m\u001b[0;34m.\u001b[0m\u001b[0mfilter\u001b[0m\u001b[0;34m(\u001b[0m\u001b[0mLogisticRegressionCM\u001b[0m\u001b[0;34m.\u001b[0m\u001b[0mprediction\u001b[0m \u001b[0;34m==\u001b[0m\u001b[0;36m1\u001b[0m\u001b[0;34m)\u001b[0m\u001b[0;34m.\u001b[0m\u001b[0mfilter\u001b[0m\u001b[0;34m(\u001b[0m\u001b[0mLogisticRegressionCM\u001b[0m\u001b[0;34m.\u001b[0m\u001b[0mrepairmentWheelIndex\u001b[0m \u001b[0;34m==\u001b[0m\u001b[0;36m0\u001b[0m\u001b[0;34m)\u001b[0m\u001b[0;34m.\u001b[0m\u001b[0mcollect\u001b[0m\u001b[0;34m(\u001b[0m\u001b[0;34m)\u001b[0m\u001b[0;34m[\u001b[0m\u001b[0;36m0\u001b[0m\u001b[0;34m]\u001b[0m\u001b[0;34m[\u001b[0m\u001b[0;36m2\u001b[0m\u001b[0;34m]\u001b[0m\u001b[0;34m\u001b[0m\u001b[0;34m\u001b[0m\u001b[0m\n",
      "\u001b[0;31mIndexError\u001b[0m: list index out of range"
     ]
    }
   ],
   "source": [
    "LogisticRegressionCM = predictionsLR.groupBy('prediction','repairmentWheelIndex').count()\n",
    "\n",
    "print(\"Confusion Matrix for Logistic Regression Classifier: \")\n",
    "LogisticRegressionCM.show()\n",
    "\n",
    "TruePosLR = LogisticRegressionCM.filter(LogisticRegressionCM.prediction ==1).filter(LogisticRegressionCM.repairmentWheelIndex ==1).collect()[0][2]\n",
    "FalseNegLR = LogisticRegressionCM.filter(LogisticRegressionCM.prediction ==0).filter(LogisticRegressionCM.repairmentWheelIndex ==1).collect()[0][2]\n",
    "FalsePosLR = LogisticRegressionCM.filter(LogisticRegressionCM.prediction ==1).filter(LogisticRegressionCM.repairmentWheelIndex ==0).collect()[0][2]\n",
    "TrueNegLR = LogisticRegressionCM.filter(LogisticRegressionCM.prediction ==0).filter(LogisticRegressionCM.repairmentWheelIndex ==0).collect()[0][2]\n",
    "\n",
    "PrecisionLR = TruePosLR / (TruePosLR + FalsePosLR)\n",
    "RecallLR = TruePosLR / (TruePosLR + FalseNegLR)\n",
    "F1LR = 2*((PrecisionLR*RecallLR)/(PrecisionLR+RecallLR))\n",
    "\n",
    "print(\"\\tTrue Positive Count: \", TruePosLR)\n",
    "print(\"\\tFalse Negitive Count: \", FalseNegLR)\n",
    "print(\"\\tFalse Positive Count: \", FalsePosLR)\n",
    "print(\"\\tTrue Negative Count: \", TrueNegLR)\n",
    "print(\"\")\n",
    "print(\"Precesion, Recall and F1 Score of Logistic Regression Classifier: \")\n",
    "print(\"\")\n",
    "print(\"\\tPrecision :\", PrecisionLR)\n",
    "print(\"\\tRecall :\", RecallLR)\n",
    "print(\"\\tF1 Score :\", F1LR)"
   ]
  }
 ],
 "metadata": {
  "kernelspec": {
   "display_name": "Python 3",
   "language": "python",
   "name": "python3"
  },
  "language_info": {
   "codemirror_mode": {
    "name": "ipython",
    "version": 3
   },
   "file_extension": ".py",
   "mimetype": "text/x-python",
   "name": "python",
   "nbconvert_exporter": "python",
   "pygments_lexer": "ipython3",
   "version": "3.6.8"
  }
 },
 "nbformat": 4,
 "nbformat_minor": 2
}
